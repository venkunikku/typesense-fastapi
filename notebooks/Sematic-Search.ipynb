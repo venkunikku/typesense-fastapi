{
 "cells": [
  {
   "cell_type": "markdown",
   "id": "5883bf11-3561-4799-ac77-030301e39436",
   "metadata": {},
   "source": [
    "# all-mpnet-base-v2 (model)"
   ]
  },
  {
   "cell_type": "code",
   "execution_count": 105,
   "id": "553a0c28-3273-4a0d-bc63-c7e423f8d4af",
   "metadata": {},
   "outputs": [],
   "source": [
    "# see https://sbert.net/ on installation details of SentenceTransformer\n",
    "from sentence_transformers import SentenceTransformer, util\n",
    "import pandas as pd\n",
    "import re\n",
    "import torch"
   ]
  },
  {
   "cell_type": "markdown",
   "id": "7e57e1c8-71b4-4363-831f-18b9faaf7270",
   "metadata": {},
   "source": [
    "## Loading data"
   ]
  },
  {
   "cell_type": "code",
   "execution_count": 106,
   "id": "537676a1-98a0-4562-974b-a58fcb9cf561",
   "metadata": {},
   "outputs": [],
   "source": [
    "# Load the data you have created using faker or any data that you used for building the search\n",
    "item_description = pd.read_csv(\"inventory_item_desc_filtered_data.csv\")"
   ]
  },
  {
   "cell_type": "code",
   "execution_count": 107,
   "id": "e76391b0-5e40-408b-a138-65ab1d3b531e",
   "metadata": {},
   "outputs": [
    {
     "data": {
      "text/plain": [
       "0                  ELTGASRANG \n",
       "1                   OTL FS RNG\n",
       "2      ELECTRIC D ROP IN RANGE\n",
       "3          SAMS 28CF  FDBM GNG\n",
       "4                RANGE S I GAS\n",
       "5    28 CU  FT  SAM  3 DOOR FR\n",
       "6                    69472 KME\n",
       "7                36 IN GAS  CT\n",
       "8                   36 GAS CT \n",
       "9     WHITE  RAN KME GE  SLIDE\n",
       "Name: item_desc, dtype: object"
      ]
     },
     "execution_count": 107,
     "metadata": {},
     "output_type": "execute_result"
    }
   ],
   "source": [
    "item_description.item_desc.head(10)"
   ]
  },
  {
   "cell_type": "code",
   "execution_count": 108,
   "id": "b8d26c52-8035-4b25-9404-5f59c6b0c380",
   "metadata": {},
   "outputs": [
    {
     "name": "stdout",
     "output_type": "stream",
     "text": [
      "<class 'pandas.core.frame.DataFrame'>\n",
      "RangeIndex: 455 entries, 0 to 454\n",
      "Data columns (total 7 columns):\n",
      " #   Column           Non-Null Count  Dtype \n",
      "---  ------           --------------  ----- \n",
      " 0   inventory_id     455 non-null    int64 \n",
      " 1   store_unit       455 non-null    int64 \n",
      " 2   item_number      455 non-null    int64 \n",
      " 3   active_flag      455 non-null    int64 \n",
      " 4   id               455 non-null    int64 \n",
      " 5   item_number_str  455 non-null    int64 \n",
      " 6   item_desc        455 non-null    object\n",
      "dtypes: int64(6), object(1)\n",
      "memory usage: 25.0+ KB\n"
     ]
    }
   ],
   "source": [
    "item_description.info()"
   ]
  },
  {
   "cell_type": "markdown",
   "id": "eea0c74f-fca7-464e-8087-0e5937ebeac9",
   "metadata": {},
   "source": [
    "## Cleaning the data to remove special chars"
   ]
  },
  {
   "cell_type": "code",
   "execution_count": 109,
   "id": "e8b5522c-2752-43e8-bb0e-9924b13354a1",
   "metadata": {},
   "outputs": [],
   "source": [
    "# Utility method to clean up special chars\n",
    "def remove_special_characters(text):\n",
    "    return re.sub(r'[^a-zA-Z0-9\\s]', ' ', str(text))"
   ]
  },
  {
   "cell_type": "code",
   "execution_count": 110,
   "id": "00a4c67f-48c8-4b07-ad56-abd147c15bc3",
   "metadata": {},
   "outputs": [],
   "source": [
    "item_description[\"item_desc\"] = item_description[\"item_desc\"].apply(remove_special_characters)"
   ]
  },
  {
   "cell_type": "markdown",
   "id": "2673eb71-4be2-44a7-ae7d-5315546c62e0",
   "metadata": {},
   "source": [
    "### Data after clean-up"
   ]
  },
  {
   "cell_type": "code",
   "execution_count": 111,
   "id": "2a9c6a45-ffee-459a-8e41-55a8d0204fef",
   "metadata": {},
   "outputs": [
    {
     "data": {
      "text/plain": [
       "0                  ELTGASRANG \n",
       "1                   OTL FS RNG\n",
       "2      ELECTRIC D ROP IN RANGE\n",
       "3          SAMS 28CF  FDBM GNG\n",
       "4                RANGE S I GAS\n",
       "5    28 CU  FT  SAM  3 DOOR FR\n",
       "6                    69472 KME\n",
       "7                36 IN GAS  CT\n",
       "8                   36 GAS CT \n",
       "9     WHITE  RAN KME GE  SLIDE\n",
       "Name: item_desc, dtype: object"
      ]
     },
     "execution_count": 111,
     "metadata": {},
     "output_type": "execute_result"
    }
   ],
   "source": [
    "item_description.item_desc.head(10)"
   ]
  },
  {
   "cell_type": "markdown",
   "id": "073986f9-e256-4013-9e1c-a6a796a1e9aa",
   "metadata": {},
   "source": [
    "## Applying - all-mpnet-base-v2 model to the item description"
   ]
  },
  {
   "cell_type": "markdown",
   "id": "fd195cd4-6da8-4891-89a9-6a68dfa48cb8",
   "metadata": {},
   "source": [
    "### Making the item descriptoin dataframe colum to a list"
   ]
  },
  {
   "cell_type": "code",
   "execution_count": 112,
   "id": "ca65d653-f824-4ecc-8572-c5c4e2b19e33",
   "metadata": {},
   "outputs": [],
   "source": [
    "item_desc_array = item_description.item_desc.tolist()"
   ]
  },
  {
   "cell_type": "code",
   "execution_count": 113,
   "id": "54e3f0f5-7b3a-472f-9210-6ca6121f90f3",
   "metadata": {},
   "outputs": [
    {
     "data": {
      "text/plain": [
       "455"
      ]
     },
     "execution_count": 113,
     "metadata": {},
     "output_type": "execute_result"
    }
   ],
   "source": [
    "len(item_desc_array)"
   ]
  },
  {
   "cell_type": "code",
   "execution_count": 114,
   "id": "77034d0f-b1fe-49c4-b963-4ac3f7ea8aa0",
   "metadata": {},
   "outputs": [],
   "source": [
    "# If you dont have GPU remove 'device=cuda'\n",
    "model_minlm_l12 = SentenceTransformer(\"all-MiniLM-L12-v2\", device=\"cuda\")"
   ]
  },
  {
   "cell_type": "code",
   "execution_count": 115,
   "id": "539d82c1-228e-410a-af1d-28fd37730d92",
   "metadata": {},
   "outputs": [],
   "source": [
    "item_desc_emb_minilm_l12 = model_minlm_l12.encode(item_desc_array)"
   ]
  },
  {
   "cell_type": "markdown",
   "id": "76e6c40d-506d-4933-af07-4c7880fc0c17",
   "metadata": {},
   "source": [
    "Note: like mentioned in the article https://medium.com/@venku.buragadda/typesense-federated-multi-geo-and-sematic-ml-search-0eb37fc7d7bc dimension is `384`"
   ]
  },
  {
   "cell_type": "code",
   "execution_count": 116,
   "id": "eb956619-0d58-4569-b5ca-37a63102fdfd",
   "metadata": {},
   "outputs": [
    {
     "data": {
      "text/plain": [
       "(455, 384)"
      ]
     },
     "execution_count": 116,
     "metadata": {},
     "output_type": "execute_result"
    }
   ],
   "source": [
    "item_desc_emb_minilm_l12.shape"
   ]
  },
  {
   "cell_type": "code",
   "execution_count": 117,
   "id": "1fead9fb-665d-4f6d-a4ee-f7d4ee2ee726",
   "metadata": {},
   "outputs": [
    {
     "data": {
      "text/plain": [
       "numpy.ndarray"
      ]
     },
     "execution_count": 117,
     "metadata": {},
     "output_type": "execute_result"
    }
   ],
   "source": [
    "type(item_desc_emb_minilm_l12)"
   ]
  },
  {
   "cell_type": "markdown",
   "id": "81308225-4a1e-4c1b-9b9c-854bf139a22b",
   "metadata": {},
   "source": [
    "## Lets map each row with its embeddings."
   ]
  },
  {
   "cell_type": "code",
   "execution_count": 118,
   "id": "8c47833c-2a1f-439e-bd67-bf103fd4adc1",
   "metadata": {},
   "outputs": [],
   "source": [
    "all_embds = item_desc_emb_minilm_l12.tolist() \n"
   ]
  },
  {
   "cell_type": "code",
   "execution_count": 119,
   "id": "dac7275c-047e-47ae-a919-97debee4a5d5",
   "metadata": {},
   "outputs": [],
   "source": [
    "item_description[\"embedding\"] = all_embds"
   ]
  },
  {
   "cell_type": "code",
   "execution_count": 122,
   "id": "d3f412e8-2b4b-493a-b86f-524d049027aa",
   "metadata": {},
   "outputs": [
    {
     "data": {
      "text/html": [
       "<div>\n",
       "<style scoped>\n",
       "    .dataframe tbody tr th:only-of-type {\n",
       "        vertical-align: middle;\n",
       "    }\n",
       "\n",
       "    .dataframe tbody tr th {\n",
       "        vertical-align: top;\n",
       "    }\n",
       "\n",
       "    .dataframe thead th {\n",
       "        text-align: right;\n",
       "    }\n",
       "</style>\n",
       "<table border=\"1\" class=\"dataframe\">\n",
       "  <thead>\n",
       "    <tr style=\"text-align: right;\">\n",
       "      <th></th>\n",
       "      <th>inventory_id</th>\n",
       "      <th>store_unit</th>\n",
       "      <th>item_number</th>\n",
       "      <th>active_flag</th>\n",
       "      <th>id</th>\n",
       "      <th>item_number_str</th>\n",
       "      <th>item_desc</th>\n",
       "      <th>embedding</th>\n",
       "    </tr>\n",
       "  </thead>\n",
       "  <tbody>\n",
       "    <tr>\n",
       "      <th>0</th>\n",
       "      <td>37307867</td>\n",
       "      <td>13611</td>\n",
       "      <td>84509</td>\n",
       "      <td>0</td>\n",
       "      <td>37307867</td>\n",
       "      <td>84509</td>\n",
       "      <td>ELTGASRANG</td>\n",
       "      <td>[-0.047509580850601196, -0.03400413319468498, ...</td>\n",
       "    </tr>\n",
       "  </tbody>\n",
       "</table>\n",
       "</div>"
      ],
      "text/plain": [
       "   inventory_id  store_unit  item_number  active_flag        id  \\\n",
       "0      37307867       13611        84509            0  37307867   \n",
       "\n",
       "  item_number_str    item_desc  \\\n",
       "0           84509  ELTGASRANG    \n",
       "\n",
       "                                           embedding  \n",
       "0  [-0.047509580850601196, -0.03400413319468498, ...  "
      ]
     },
     "execution_count": 122,
     "metadata": {},
     "output_type": "execute_result"
    }
   ],
   "source": [
    "item_description.head(1)"
   ]
  },
  {
   "cell_type": "markdown",
   "id": "c9c321c0-a1d7-4cf4-97b6-aec247b7b256",
   "metadata": {},
   "source": [
    "**Below embeddings are good to be loaded into Typesens.**"
   ]
  },
  {
   "cell_type": "code",
   "execution_count": 121,
   "id": "1c60993e-7f59-4b9a-b8b3-513b2b445140",
   "metadata": {},
   "outputs": [],
   "source": [
    "# store in jsonl to load into typesense\n",
    "item_description[\"item_number_str\"]  = item_description[\"item_number_str\"].astype(str)\n",
    "item_description[\"id\"]  = item_description[\"id\"].astype(str)\n",
    "item_description.to_json('inventory_ml_own_embd_to_load.jsonl', orient='records', lines=True)"
   ]
  },
  {
   "cell_type": "markdown",
   "id": "1005aa1d-5dbb-4803-aa44-5420b1b475d0",
   "metadata": {},
   "source": [
    "# How do you search the data using the embeddings created above?"
   ]
  },
  {
   "cell_type": "markdown",
   "id": "1eeb9ee9-2ace-41eb-8a21-1cd690c3d956",
   "metadata": {},
   "source": [
    "## Searching the data using above embeddings"
   ]
  },
  {
   "cell_type": "code",
   "execution_count": 123,
   "id": "6486ee1f-9e06-4c00-98e0-f99f621b0a6d",
   "metadata": {},
   "outputs": [],
   "source": [
    "search_term = [\"hot food\"]"
   ]
  },
  {
   "cell_type": "markdown",
   "id": "b5ee68aa-0ca2-4f57-aba1-f9a18346f522",
   "metadata": {},
   "source": [
    "We are using the same model object to encode the search term. This creates the embeddings according to the model"
   ]
  },
  {
   "cell_type": "code",
   "execution_count": 44,
   "id": "01817c15-8e24-4575-ae6e-f8eb6dcfd781",
   "metadata": {},
   "outputs": [],
   "source": [
    "search_term_emb = model_minlm_l12.encode(search_term)"
   ]
  },
  {
   "cell_type": "code",
   "execution_count": 90,
   "id": "d82192b6-656d-4e8b-873c-d376f011a168",
   "metadata": {},
   "outputs": [
    {
     "data": {
      "text/plain": [
       "(1, 384)"
      ]
     },
     "execution_count": 90,
     "metadata": {},
     "output_type": "execute_result"
    }
   ],
   "source": [
    "search_term_emb.shape"
   ]
  },
  {
   "cell_type": "code",
   "execution_count": 94,
   "id": "f032845c-2bb6-4f6e-ae49-672432838a54",
   "metadata": {},
   "outputs": [],
   "source": [
    "# this should return embeddings to search the word\n",
    "searc_term_embd_to_use_with_typesense_search = search_term_emb[0].tolist()"
   ]
  },
  {
   "cell_type": "markdown",
   "id": "51a65500-605e-4bfa-9a08-278857e821d2",
   "metadata": {},
   "source": [
    "Find the distance between the search term and other data in the corpus"
   ]
  },
  {
   "cell_type": "code",
   "execution_count": 48,
   "id": "3b797751-9de6-46c2-8312-9ddc6e9ce1d4",
   "metadata": {},
   "outputs": [],
   "source": [
    "search_term_dis = util.cos_sim(search_term_emb, item_desc_emb_minilm_l12)"
   ]
  },
  {
   "cell_type": "code",
   "execution_count": 49,
   "id": "92aaf69c-fb54-4c9f-b8a8-80e159e29b18",
   "metadata": {},
   "outputs": [
    {
     "data": {
      "text/plain": [
       "torch.Size([1, 455])"
      ]
     },
     "execution_count": 49,
     "metadata": {},
     "output_type": "execute_result"
    }
   ],
   "source": [
    "search_term_dis.shape"
   ]
  },
  {
   "cell_type": "markdown",
   "id": "c51dcec6-06a1-45bd-b629-931acc01a0be",
   "metadata": {},
   "source": [
    "Now find similar items"
   ]
  },
  {
   "cell_type": "code",
   "execution_count": 51,
   "id": "325e1091-bca6-41c7-a588-844174a6b6b4",
   "metadata": {},
   "outputs": [],
   "source": [
    "# flatten the array first\n",
    "search_term_emb_flat = search_term_dis.cpu().numpy().flatten()"
   ]
  },
  {
   "cell_type": "code",
   "execution_count": 89,
   "id": "117e3e0c-75ac-42ff-8d69-0820935d1a57",
   "metadata": {},
   "outputs": [],
   "source": [
    "# list(search_term_emb_flat.tolist())"
   ]
  },
  {
   "cell_type": "code",
   "execution_count": 64,
   "id": "6b7893ec-4667-4224-935c-49403c926e04",
   "metadata": {},
   "outputs": [],
   "source": [
    "similar_items = [item_desc_array[idx] for idx, score in enumerate(search_term_emb_flat) if score >= 0.296]"
   ]
  },
  {
   "cell_type": "code",
   "execution_count": 65,
   "id": "71488d0e-c5be-4632-a848-fa5c5b4ec57a",
   "metadata": {},
   "outputs": [
    {
     "data": {
      "text/plain": [
       "['COOKTOP 36  GAS',\n",
       " 'COOKTOP 36  GAS',\n",
       " 'KAD DISH ',\n",
       " 'KME DISH B KME I BLACKS',\n",
       " 'KME DISH B KME I BLACKS',\n",
       " 'KME DISH B KME I BLACKS']"
      ]
     },
     "execution_count": 65,
     "metadata": {},
     "output_type": "execute_result"
    }
   ],
   "source": [
    "similar_items"
   ]
  },
  {
   "cell_type": "markdown",
   "id": "bcdac8d5-5fa1-4028-96dc-f5104bc6f67f",
   "metadata": {},
   "source": [
    "### You can do the same thing using a convienence method"
   ]
  },
  {
   "cell_type": "code",
   "execution_count": 55,
   "id": "754c8cf0-54fb-41f6-85f4-08e7000e7040",
   "metadata": {},
   "outputs": [
    {
     "data": {
      "text/plain": [
       "torch.Size([455])"
      ]
     },
     "execution_count": 55,
     "metadata": {},
     "output_type": "execute_result"
    }
   ],
   "source": [
    "similarity_scores = model_minlm_l12.similarity(search_term_emb, item_desc_emb_minilm_l12)[0]\n",
    "similarity_scores.shape"
   ]
  },
  {
   "cell_type": "code",
   "execution_count": 56,
   "id": "2aca54a8-087d-42bd-9bd8-17f356d5a322",
   "metadata": {},
   "outputs": [
    {
     "data": {
      "text/plain": [
       "(tensor([0.3625, 0.3266, 0.3266, 0.2962, 0.2962]),\n",
       " tensor([117,  50,  51, 211, 119]))"
      ]
     },
     "execution_count": 56,
     "metadata": {},
     "output_type": "execute_result"
    }
   ],
   "source": [
    "top_k = 5\n",
    "scores, indices = torch.topk(similarity_scores, k=top_k)\n",
    "scores, indices "
   ]
  },
  {
   "cell_type": "code",
   "execution_count": 57,
   "id": "464dad94-7fa8-489e-ba34-6790c091d437",
   "metadata": {},
   "outputs": [
    {
     "data": {
      "text/plain": [
       "[117, 50, 51, 211, 119]"
      ]
     },
     "execution_count": 57,
     "metadata": {},
     "output_type": "execute_result"
    }
   ],
   "source": [
    "indices.tolist()"
   ]
  },
  {
   "cell_type": "code",
   "execution_count": 58,
   "id": "357bfce6-ed50-4bd0-b306-1946abd0b96c",
   "metadata": {},
   "outputs": [
    {
     "data": {
      "text/plain": [
       "['KAD DISH ',\n",
       " 'COOKTOP 36  GAS',\n",
       " 'COOKTOP 36  GAS',\n",
       " 'KME DISH B KME I BLACKS',\n",
       " 'KME DISH B KME I BLACKS']"
      ]
     },
     "execution_count": 58,
     "metadata": {},
     "output_type": "execute_result"
    }
   ],
   "source": [
    "[item_desc_array[idx] for idx in indices.tolist()]"
   ]
  }
 ],
 "metadata": {
  "kernelspec": {
   "display_name": "Python 3 (ipykernel)",
   "language": "python",
   "name": "python3"
  },
  "language_info": {
   "codemirror_mode": {
    "name": "ipython",
    "version": 3
   },
   "file_extension": ".py",
   "mimetype": "text/x-python",
   "name": "python",
   "nbconvert_exporter": "python",
   "pygments_lexer": "ipython3",
   "version": "3.12.9"
  }
 },
 "nbformat": 4,
 "nbformat_minor": 5
}
